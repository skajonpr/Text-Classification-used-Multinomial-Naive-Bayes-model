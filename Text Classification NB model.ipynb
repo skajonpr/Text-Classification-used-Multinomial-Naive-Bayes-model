{
 "cells": [
  {
   "cell_type": "code",
   "execution_count": 3,
   "metadata": {},
   "outputs": [],
   "source": [
    "from IPython.core.interactiveshell import InteractiveShell\n",
    "InteractiveShell.ast_node_interactivity = \"all\"\n"
   ]
  },
  {
   "cell_type": "code",
   "execution_count": 4,
   "metadata": {},
   "outputs": [],
   "source": [
    "import pandas as pd"
   ]
  },
  {
   "cell_type": "code",
   "execution_count": 6,
   "metadata": {},
   "outputs": [
    {
     "data": {
      "text/html": [
       "<div>\n",
       "<style scoped>\n",
       "    .dataframe tbody tr th:only-of-type {\n",
       "        vertical-align: middle;\n",
       "    }\n",
       "\n",
       "    .dataframe tbody tr th {\n",
       "        vertical-align: top;\n",
       "    }\n",
       "\n",
       "    .dataframe thead th {\n",
       "        text-align: right;\n",
       "    }\n",
       "</style>\n",
       "<table border=\"1\" class=\"dataframe\">\n",
       "  <thead>\n",
       "    <tr style=\"text-align: right;\">\n",
       "      <th></th>\n",
       "      <th>label</th>\n",
       "      <th>text</th>\n",
       "    </tr>\n",
       "  </thead>\n",
       "  <tbody>\n",
       "    <tr>\n",
       "      <th>0</th>\n",
       "      <td>2</td>\n",
       "      <td>This is a little longer and more detailed than...</td>\n",
       "    </tr>\n",
       "    <tr>\n",
       "      <th>1</th>\n",
       "      <td>1</td>\n",
       "      <td>Only Michelle Branch save this album!!!!All gu...</td>\n",
       "    </tr>\n",
       "    <tr>\n",
       "      <th>2</th>\n",
       "      <td>2</td>\n",
       "      <td>A surprisingly good book, given its inherently...</td>\n",
       "    </tr>\n",
       "    <tr>\n",
       "      <th>3</th>\n",
       "      <td>2</td>\n",
       "      <td>This is a wonderful, quiet and relaxing CD tha...</td>\n",
       "    </tr>\n",
       "    <tr>\n",
       "      <th>4</th>\n",
       "      <td>1</td>\n",
       "      <td>The lights that I received are absolutely not ...</td>\n",
       "    </tr>\n",
       "  </tbody>\n",
       "</table>\n",
       "</div>"
      ],
      "text/plain": [
       "   label                                               text\n",
       "0      2  This is a little longer and more detailed than...\n",
       "1      1  Only Michelle Branch save this album!!!!All gu...\n",
       "2      2  A surprisingly good book, given its inherently...\n",
       "3      2  This is a wonderful, quiet and relaxing CD tha...\n",
       "4      1  The lights that I received are absolutely not ..."
      ]
     },
     "execution_count": 6,
     "metadata": {},
     "output_type": "execute_result"
    },
    {
     "name": "stdout",
     "output_type": "stream",
     "text": [
      "<class 'pandas.core.frame.DataFrame'>\n",
      "RangeIndex: 201 entries, 0 to 200\n",
      "Data columns (total 2 columns):\n",
      "label    201 non-null int64\n",
      "text     201 non-null object\n",
      "dtypes: int64(1), object(1)\n",
      "memory usage: 3.2+ KB\n"
     ]
    },
    {
     "data": {
      "text/html": [
       "<div>\n",
       "<style scoped>\n",
       "    .dataframe tbody tr th:only-of-type {\n",
       "        vertical-align: middle;\n",
       "    }\n",
       "\n",
       "    .dataframe tbody tr th {\n",
       "        vertical-align: top;\n",
       "    }\n",
       "\n",
       "    .dataframe thead th {\n",
       "        text-align: right;\n",
       "    }\n",
       "</style>\n",
       "<table border=\"1\" class=\"dataframe\">\n",
       "  <thead>\n",
       "    <tr style=\"text-align: right;\">\n",
       "      <th></th>\n",
       "      <th>label</th>\n",
       "      <th>text</th>\n",
       "    </tr>\n",
       "  </thead>\n",
       "  <tbody>\n",
       "    <tr>\n",
       "      <th>0</th>\n",
       "      <td>1</td>\n",
       "      <td>Unfortunately I had to return the Blue Ant bec...</td>\n",
       "    </tr>\n",
       "    <tr>\n",
       "      <th>1</th>\n",
       "      <td>2</td>\n",
       "      <td>...but a very good pick anyway! As usual Don C...</td>\n",
       "    </tr>\n",
       "    <tr>\n",
       "      <th>2</th>\n",
       "      <td>2</td>\n",
       "      <td>Bayard is not Dickens, but his characters and ...</td>\n",
       "    </tr>\n",
       "    <tr>\n",
       "      <th>3</th>\n",
       "      <td>1</td>\n",
       "      <td>I'm used to better quality mysteries.....just ...</td>\n",
       "    </tr>\n",
       "    <tr>\n",
       "      <th>4</th>\n",
       "      <td>2</td>\n",
       "      <td>To Pearl Jam Lion, I really don't appreciate b...</td>\n",
       "    </tr>\n",
       "  </tbody>\n",
       "</table>\n",
       "</div>"
      ],
      "text/plain": [
       "   label                                               text\n",
       "0      1  Unfortunately I had to return the Blue Ant bec...\n",
       "1      2  ...but a very good pick anyway! As usual Don C...\n",
       "2      2  Bayard is not Dickens, but his characters and ...\n",
       "3      1  I'm used to better quality mysteries.....just ...\n",
       "4      2  To Pearl Jam Lion, I really don't appreciate b..."
      ]
     },
     "execution_count": 6,
     "metadata": {},
     "output_type": "execute_result"
    },
    {
     "name": "stdout",
     "output_type": "stream",
     "text": [
      "<class 'pandas.core.frame.DataFrame'>\n",
      "RangeIndex: 500 entries, 0 to 499\n",
      "Data columns (total 2 columns):\n",
      "label    500 non-null int64\n",
      "text     500 non-null object\n",
      "dtypes: int64(1), object(1)\n",
      "memory usage: 7.9+ KB\n"
     ]
    }
   ],
   "source": [
    "test_data=pd.read_csv(\"test.csv\",header=0)\n",
    "test_data.head()\n",
    "test_data.info()\n",
    "\n",
    "train_data=pd.read_csv(\"train.csv\",header=0)\n",
    "train_data.head()\n",
    "train_data.info()"
   ]
  },
  {
   "cell_type": "code",
   "execution_count": 12,
   "metadata": {},
   "outputs": [],
   "source": [
    "from sklearn.pipeline import Pipeline\n",
    "from sklearn.model_selection import GridSearchCV\n",
    "from sklearn.feature_extraction.text import TfidfVectorizer\n",
    "from sklearn.naive_bayes import MultinomialNB\n",
    "\n",
    "text_clf = Pipeline([('tfidf', TfidfVectorizer()), ('clf', MultinomialNB())])\n",
    "\n",
    "parameters = {'tfidf__min_df':[1, 2, 5],\n",
    "              'tfidf__stop_words':[None,\"english\"],\n",
    "              'clf__alpha': [0.5, 1.0, 2, 3, 4]}\n",
    "\n",
    "metric =  \"f1_macro\"\n",
    "\n",
    "gs_clf = GridSearchCV(text_clf, param_grid=parameters, scoring=metric, cv=5)\n",
    "\n",
    "gs_clf = gs_clf.fit(train_data[\"text\"], train_data[\"label\"])\n"
   ]
  },
  {
   "cell_type": "code",
   "execution_count": 15,
   "metadata": {},
   "outputs": [
    {
     "name": "stdout",
     "output_type": "stream",
     "text": [
      "clf__alpha : 3\n",
      "tfidf__min_df : 5\n",
      "tfidf__stop_words : english\n",
      "best f1 score: 0.7151911246709968\n"
     ]
    }
   ],
   "source": [
    "for param_name in gs_clf.best_params_:\n",
    "    print(\"{} : {}\".format(param_name , gs_clf.best_params_[param_name]))\n",
    "print(\"best f1 score:\", gs_clf.best_score_)\n",
    "\n",
    "clf_alpha = gs_clf.best_params_[\"clf__alpha\"]\n",
    "tfidf_min_df = gs_clf.best_params_[\"tfidf__min_df\"]\n",
    "tfidf_stop_words = gs_clf.best_params_[\"tfidf__stop_words\"]\n",
    "\n"
   ]
  },
  {
   "cell_type": "code",
   "execution_count": 61,
   "metadata": {},
   "outputs": [],
   "source": [
    "classifier = Pipeline([\n",
    "    ('tfidf', TfidfVectorizer(stop_words=tfidf_stop_words,\\\n",
    "                              min_df=tfidf_min_df)),\n",
    "    ('clf', MultinomialNB(alpha = clf_alpha ))])\n",
    "\n",
    "clf = classifier.fit(train_data[\"text\"],  train_data[\"label\"])"
   ]
  },
  {
   "cell_type": "code",
   "execution_count": 62,
   "metadata": {},
   "outputs": [
    {
     "name": "stdout",
     "output_type": "stream",
     "text": [
      "              precision    recall  f1-score   support\n",
      "\n",
      "           1       0.70      0.73      0.71        99\n",
      "           2       0.72      0.70      0.71       102\n",
      "\n",
      "   micro avg       0.71      0.71      0.71       201\n",
      "   macro avg       0.71      0.71      0.71       201\n",
      "weighted avg       0.71      0.71      0.71       201\n",
      "\n"
     ]
    }
   ],
   "source": [
    "from sklearn.metrics import classification_report\n",
    "\n",
    "labels=sorted(train_data[\"label\"].unique())\n",
    "labels = list(map(str, labels))\n",
    "\n",
    "predicted = classifier.predict(test_data[\"text\"])\n",
    "\n",
    "\n",
    "print(classification_report(test_data[\"label\"], predicted, target_names=labels))"
   ]
  },
  {
   "cell_type": "code",
   "execution_count": 70,
   "metadata": {},
   "outputs": [],
   "source": [
    "from sklearn.metrics import roc_curve, auc,precision_recall_curve\n",
    "import numpy as np\n",
    "\n",
    "predict_p = clf.predict_proba(test_data[\"text\"])\n",
    "y_pred = predict_p[:,1]\n",
    "\n",
    "binary_y = np.where(test_data[\"label\"] ==2 ,1 ,0)\n",
    "\n",
    "fpr, tpr, thresholds = roc_curve(binary_y, y_pred, pos_label=1)"
   ]
  },
  {
   "cell_type": "code",
   "execution_count": 87,
   "metadata": {},
   "outputs": [
    {
     "data": {
      "text/plain": [
       "Pipeline(memory=None,\n",
       "     steps=[('tfidf', TfidfVectorizer(analyzer='word', binary=False, decode_error='strict',\n",
       "        dtype=<class 'numpy.float64'>, encoding='utf-8', input='content',\n",
       "        lowercase=True, max_df=1.0, max_features=None, min_df=5,\n",
       "        ngram_range=(1, 1), norm='l2', preprocessor=None, smooth_idf=True,...=True,\n",
       "        vocabulary=None)), ('clf', MultinomialNB(alpha=3, class_prior=None, fit_prior=True))])"
      ]
     },
     "execution_count": 87,
     "metadata": {},
     "output_type": "execute_result"
    }
   ],
   "source": [
    "clf"
   ]
  },
  {
   "cell_type": "code",
   "execution_count": 82,
   "metadata": {},
   "outputs": [
    {
     "data": {
      "image/png": "[encoded data removed]",
      "text/plain": [
       "<Figure size 432x288 with 1 Axes>"
      ]
     },
     "metadata": {
      "needs_background": "light"
     },
     "output_type": "display_data"
    }
   ],
   "source": [
    "from matplotlib import pyplot as plt\n",
    "\n",
    "plt.figure();\n",
    "plt.plot(fpr, tpr, color='red');\n",
    "plt.plot([0, 1], [0, 1], color='blue', linestyle='--');\n",
    "plt.xlim([0.0, 1.0]);\n",
    "plt.ylim([0.0, 1.05]);\n",
    "plt.xlabel('False Positive Rate');\n",
    "plt.ylabel('True Positive Rate');\n",
    "plt.title('AUC of Naive Bayes Model');\n",
    "plt.show();"
   ]
  },
  {
   "cell_type": "code",
   "execution_count": 83,
   "metadata": {},
   "outputs": [
    {
     "data": {
      "image/png": "[encoded data removed]",
      "text/plain": [
       "<Figure size 432x288 with 1 Axes>"
      ]
     },
     "metadata": {
      "needs_background": "light"
     },
     "output_type": "display_data"
    }
   ],
   "source": [
    "precision, recall, thresholds = precision_recall_curve(binary_y, y_pred, pos_label=1)\n",
    "\n",
    "plt.figure();\n",
    "plt.plot(recall, precision, color='green', lw=2);\n",
    "plt.xlim([0.0, 1.0]);\n",
    "plt.ylim([0.0, 1.05]);\n",
    "plt.xlabel('Recall');\n",
    "plt.ylabel('Precision');\n",
    "plt.title('Precision_Recall_Curve of Naive Bayes Model');\n",
    "plt.show();"
   ]
  },
  {
   "cell_type": "code",
   "execution_count": 86,
   "metadata": {},
   "outputs": [
    {
     "name": "stdout",
     "output_type": "stream",
     "text": [
      "AUC = 0.7947118241235889\n"
     ]
    }
   ],
   "source": [
    "print( \"AUC = {}\".format(auc(fpr, tpr)))"
   ]
  },
  {
   "cell_type": "code",
   "execution_count": null,
   "metadata": {},
   "outputs": [],
   "source": []
  }
 ],
 "metadata": {
  "kernelspec": {
   "display_name": "Python 3",
   "language": "python",
   "name": "python3"
  },
  "language_info": {
   "codemirror_mode": {
    "name": "ipython",
    "version": 3
   },
   "file_extension": ".py",
   "mimetype": "text/x-python",
   "name": "python",
   "nbconvert_exporter": "python",
   "pygments_lexer": "ipython3",
   "version": "3.7.2"
  }
 },
 "nbformat": 4,
 "nbformat_minor": 2
}
